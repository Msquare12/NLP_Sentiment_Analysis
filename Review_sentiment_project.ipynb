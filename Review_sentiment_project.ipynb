{
 "cells": [
  {
   "cell_type": "code",
   "execution_count": null,
   "id": "a30ecd2f",
   "metadata": {},
   "outputs": [],
   "source": []
  },
  {
   "cell_type": "markdown",
   "id": "f8ca5e1c",
   "metadata": {},
   "source": [
    "# Sentiment Analysis"
   ]
  },
  {
   "cell_type": "markdown",
   "id": "e3539e01",
   "metadata": {},
   "source": [
    "## About the Dataset:\n",
    "\n",
    "Amazon Review Full Score Dataset\n",
    "\n",
    "Version 3, Updated 09/09/2015\n",
    "\n",
    "ORIGIN\n",
    "\n",
    "The Amazon reviews dataset consists of reviews from amazon. The data span a period of 18 years, including ~35 million reviews up to March 2013. Reviews include product and user information, ratings, and a plaintext review. For more information, please refer to the following paper: J. McAuley and J. Leskovec. Hidden factors and hidden topics: understanding rating dimensions with review text. RecSys, 2013.\n",
    "\n",
    "The Amazon reviews full score dataset is constructed by Xiang Zhang (xiang.zhang@nyu.edu) from the above dataset. It is used as a text classification benchmark in the following paper: Xiang Zhang, Junbo Zhao, Yann LeCun. Character-level Convolutional Networks for Text Classification. Advances in Neural Information Processing Systems 28 (NIPS 2015).\n",
    "\n",
    "\n",
    "DESCRIPTION\n",
    "\n",
    "The Amazon reviews full score dataset is constructed by randomly taking 600,000 training samples and 130,000 testing samples for each review score from 1 to 5. In total there are 3,000,000 trainig samples and 650,000 testing samples.\n",
    "\n",
    "The files train.csv and test.csv contain all the training samples as comma-sparated values. There are 3 columns in them, corresponding to class index (1 to 5), review title and review text. The review title and text are escaped using double quotes (\"), and any internal double quote is escaped by 2 double quotes (\"\"). New lines are escaped by a backslash followed with an \"n\" character, that is \"\\n\".\n"
   ]
  },
  {
   "cell_type": "code",
   "execution_count": 1,
   "id": "d561e297",
   "metadata": {},
   "outputs": [],
   "source": [
    "#warnings :)\n",
    "import warnings\n",
    "warnings.filterwarnings('ignore')\n",
    "\n",
    "\n",
    "\n",
    "import pandas as pd\n",
    "import re\n",
    "import numpy as np\n",
    "import tensorflow as tf\n",
    "from tensorflow.keras.layers import LSTM, Embedding, Dropout, Dense, Flatten\n",
    "from tensorflow.keras.models import Sequential\n",
    "\n",
    "\n",
    "\n",
    "train=pd.read_csv(r'C:\\Users\\Malyaj Mishra\\Desktop\\DS_IT\\Projects\\NLP\\amazon_review_full_csv\\train.csv',\\\n",
    "                  names=['Rating','Review_title','Review'])\n",
    "\n",
    "test=pd.read_csv(r'C:\\Users\\Malyaj Mishra\\Desktop\\DS_IT\\Projects\\NLP\\amazon_review_full_csv\\test.csv',\\\n",
    "                 names=['Rating','Review_title','Review'])"
   ]
  },
  {
   "cell_type": "code",
   "execution_count": 2,
   "id": "14db3d71",
   "metadata": {
    "scrolled": true
   },
   "outputs": [
    {
     "data": {
      "text/html": [
       "<div>\n",
       "<style scoped>\n",
       "    .dataframe tbody tr th:only-of-type {\n",
       "        vertical-align: middle;\n",
       "    }\n",
       "\n",
       "    .dataframe tbody tr th {\n",
       "        vertical-align: top;\n",
       "    }\n",
       "\n",
       "    .dataframe thead th {\n",
       "        text-align: right;\n",
       "    }\n",
       "</style>\n",
       "<table border=\"1\" class=\"dataframe\">\n",
       "  <thead>\n",
       "    <tr style=\"text-align: right;\">\n",
       "      <th></th>\n",
       "      <th>Rating</th>\n",
       "      <th>Review_title</th>\n",
       "      <th>Review</th>\n",
       "    </tr>\n",
       "  </thead>\n",
       "  <tbody>\n",
       "    <tr>\n",
       "      <th>0</th>\n",
       "      <td>3</td>\n",
       "      <td>more like funchuck</td>\n",
       "      <td>Gave this to my dad for a gag gift after direc...</td>\n",
       "    </tr>\n",
       "    <tr>\n",
       "      <th>1</th>\n",
       "      <td>5</td>\n",
       "      <td>Inspiring</td>\n",
       "      <td>I hope a lot of people hear this cd. We need m...</td>\n",
       "    </tr>\n",
       "    <tr>\n",
       "      <th>2</th>\n",
       "      <td>5</td>\n",
       "      <td>The best soundtrack ever to anything.</td>\n",
       "      <td>I'm reading a lot of reviews saying that this ...</td>\n",
       "    </tr>\n",
       "    <tr>\n",
       "      <th>3</th>\n",
       "      <td>4</td>\n",
       "      <td>Chrono Cross OST</td>\n",
       "      <td>The music of Yasunori Misuda is without questi...</td>\n",
       "    </tr>\n",
       "    <tr>\n",
       "      <th>4</th>\n",
       "      <td>5</td>\n",
       "      <td>Too good to be true</td>\n",
       "      <td>Probably the greatest soundtrack in history! U...</td>\n",
       "    </tr>\n",
       "  </tbody>\n",
       "</table>\n",
       "</div>"
      ],
      "text/plain": [
       "   Rating                           Review_title  \\\n",
       "0       3                     more like funchuck   \n",
       "1       5                              Inspiring   \n",
       "2       5  The best soundtrack ever to anything.   \n",
       "3       4                       Chrono Cross OST   \n",
       "4       5                    Too good to be true   \n",
       "\n",
       "                                              Review  \n",
       "0  Gave this to my dad for a gag gift after direc...  \n",
       "1  I hope a lot of people hear this cd. We need m...  \n",
       "2  I'm reading a lot of reviews saying that this ...  \n",
       "3  The music of Yasunori Misuda is without questi...  \n",
       "4  Probably the greatest soundtrack in history! U...  "
      ]
     },
     "execution_count": 2,
     "metadata": {},
     "output_type": "execute_result"
    }
   ],
   "source": [
    "train.head()"
   ]
  },
  {
   "cell_type": "code",
   "execution_count": 3,
   "id": "7652e371",
   "metadata": {},
   "outputs": [
    {
     "data": {
      "text/html": [
       "<div>\n",
       "<style scoped>\n",
       "    .dataframe tbody tr th:only-of-type {\n",
       "        vertical-align: middle;\n",
       "    }\n",
       "\n",
       "    .dataframe tbody tr th {\n",
       "        vertical-align: top;\n",
       "    }\n",
       "\n",
       "    .dataframe thead th {\n",
       "        text-align: right;\n",
       "    }\n",
       "</style>\n",
       "<table border=\"1\" class=\"dataframe\">\n",
       "  <thead>\n",
       "    <tr style=\"text-align: right;\">\n",
       "      <th></th>\n",
       "      <th>Rating</th>\n",
       "      <th>Review_title</th>\n",
       "      <th>Review</th>\n",
       "    </tr>\n",
       "  </thead>\n",
       "  <tbody>\n",
       "    <tr>\n",
       "      <th>0</th>\n",
       "      <td>1</td>\n",
       "      <td>mens ultrasheer</td>\n",
       "      <td>This model may be ok for sedentary types, but ...</td>\n",
       "    </tr>\n",
       "    <tr>\n",
       "      <th>1</th>\n",
       "      <td>4</td>\n",
       "      <td>Surprisingly delightful</td>\n",
       "      <td>This is a fast read filled with unexpected hum...</td>\n",
       "    </tr>\n",
       "    <tr>\n",
       "      <th>2</th>\n",
       "      <td>2</td>\n",
       "      <td>Works, but not as advertised</td>\n",
       "      <td>I bought one of these chargers..the instructio...</td>\n",
       "    </tr>\n",
       "    <tr>\n",
       "      <th>3</th>\n",
       "      <td>2</td>\n",
       "      <td>Oh dear</td>\n",
       "      <td>I was excited to find a book ostensibly about ...</td>\n",
       "    </tr>\n",
       "    <tr>\n",
       "      <th>4</th>\n",
       "      <td>2</td>\n",
       "      <td>Incorrect disc!</td>\n",
       "      <td>I am a big JVC fan, but I do not like this mod...</td>\n",
       "    </tr>\n",
       "  </tbody>\n",
       "</table>\n",
       "</div>"
      ],
      "text/plain": [
       "   Rating                  Review_title  \\\n",
       "0       1               mens ultrasheer   \n",
       "1       4       Surprisingly delightful   \n",
       "2       2  Works, but not as advertised   \n",
       "3       2                       Oh dear   \n",
       "4       2               Incorrect disc!   \n",
       "\n",
       "                                              Review  \n",
       "0  This model may be ok for sedentary types, but ...  \n",
       "1  This is a fast read filled with unexpected hum...  \n",
       "2  I bought one of these chargers..the instructio...  \n",
       "3  I was excited to find a book ostensibly about ...  \n",
       "4  I am a big JVC fan, but I do not like this mod...  "
      ]
     },
     "execution_count": 3,
     "metadata": {},
     "output_type": "execute_result"
    }
   ],
   "source": [
    "test.head()"
   ]
  },
  {
   "cell_type": "code",
   "execution_count": 4,
   "id": "7af46e67",
   "metadata": {
    "scrolled": true
   },
   "outputs": [
    {
     "name": "stdout",
     "output_type": "stream",
     "text": [
      "<class 'pandas.core.frame.DataFrame'>\n",
      "RangeIndex: 3000000 entries, 0 to 2999999\n",
      "Data columns (total 3 columns):\n",
      " #   Column        Dtype \n",
      "---  ------        ----- \n",
      " 0   Rating        int64 \n",
      " 1   Review_title  object\n",
      " 2   Review        object\n",
      "dtypes: int64(1), object(2)\n",
      "memory usage: 68.7+ MB\n"
     ]
    }
   ],
   "source": [
    "train.info()"
   ]
  },
  {
   "cell_type": "code",
   "execution_count": 5,
   "id": "ea100537",
   "metadata": {},
   "outputs": [
    {
     "data": {
      "text/plain": [
       "Rating           0\n",
       "Review_title    76\n",
       "Review           0\n",
       "dtype: int64"
      ]
     },
     "execution_count": 5,
     "metadata": {},
     "output_type": "execute_result"
    }
   ],
   "source": [
    "#determining null values in train dataset\n",
    "train.isna().sum()"
   ]
  },
  {
   "cell_type": "code",
   "execution_count": 6,
   "id": "3a4f485e",
   "metadata": {},
   "outputs": [
    {
     "name": "stdout",
     "output_type": "stream",
     "text": [
      "<class 'pandas.core.frame.DataFrame'>\n",
      "RangeIndex: 650000 entries, 0 to 649999\n",
      "Data columns (total 3 columns):\n",
      " #   Column        Non-Null Count   Dtype \n",
      "---  ------        --------------   ----- \n",
      " 0   Rating        650000 non-null  int64 \n",
      " 1   Review_title  649988 non-null  object\n",
      " 2   Review        650000 non-null  object\n",
      "dtypes: int64(1), object(2)\n",
      "memory usage: 14.9+ MB\n"
     ]
    }
   ],
   "source": [
    "test.info()"
   ]
  },
  {
   "cell_type": "code",
   "execution_count": 7,
   "id": "df5336f6",
   "metadata": {},
   "outputs": [
    {
     "data": {
      "text/plain": [
       "(3000000, 3)"
      ]
     },
     "execution_count": 7,
     "metadata": {},
     "output_type": "execute_result"
    }
   ],
   "source": [
    "train.shape"
   ]
  },
  {
   "cell_type": "code",
   "execution_count": 8,
   "id": "9ede39ad",
   "metadata": {
    "scrolled": true
   },
   "outputs": [
    {
     "data": {
      "text/plain": [
       "(650000, 3)"
      ]
     },
     "execution_count": 8,
     "metadata": {},
     "output_type": "execute_result"
    }
   ],
   "source": [
    "test.shape"
   ]
  },
  {
   "cell_type": "markdown",
   "id": "3cd0d5c5",
   "metadata": {},
   "source": [
    "### Taking a sample out of the data & performing some EDA:\n",
    "As we can see above that there are 3 million entries in our training set alone. And 65k in test data.\n",
    "So we'll take a sample of it. Jaldi Jaldi krna h na!!!\n",
    "\n",
    "Now our dataset is constructed by randomly taking 600,000 training samples and 130,000 testing samples for each review score from 1 to 5. In total there are 3,000,000 trainig samples and 650,000 testing samples. Hence each type of rating has same number of samples. \n",
    "\n",
    "So abhi k liye training mein each group se n=6000 nikal lo, test data mein n=1300 nikaal lete hain. (1/100th sample le lia h as of now.)\n",
    "\n",
    "NOTE: We will ignore the 'Review_heading' feature for now and only use the \"Review\" for sentiment analysis."
   ]
  },
  {
   "cell_type": "code",
   "execution_count": 9,
   "id": "6cf60895",
   "metadata": {},
   "outputs": [],
   "source": [
    "#taking sample from train & test dataset.\n",
    "\n",
    "train_g=train.groupby(\"Rating\").sample(n=6000, random_state=1)\n",
    "test_g=test.groupby(\"Rating\").sample(n=1300, random_state=1)\n",
    "\n",
    "train_g=train_g.reset_index(drop=True)\n",
    "test_g=test_g.reset_index(drop=True)"
   ]
  },
  {
   "cell_type": "code",
   "execution_count": 10,
   "id": "f9fd31af",
   "metadata": {},
   "outputs": [
    {
     "name": "stdout",
     "output_type": "stream",
     "text": [
      "(30000, 3)\n",
      "(6500, 3)\n"
     ]
    }
   ],
   "source": [
    "print(train_g.shape)\n",
    "print(test_g.shape)"
   ]
  },
  {
   "cell_type": "code",
   "execution_count": 45,
   "id": "1222fc77",
   "metadata": {},
   "outputs": [
    {
     "name": "stdout",
     "output_type": "stream",
     "text": [
      "<class 'pandas.core.frame.DataFrame'>\n",
      "RangeIndex: 30000 entries, 0 to 29999\n",
      "Data columns (total 3 columns):\n",
      " #   Column        Non-Null Count  Dtype \n",
      "---  ------        --------------  ----- \n",
      " 0   Rating        30000 non-null  int64 \n",
      " 1   Review_title  30000 non-null  object\n",
      " 2   Review        30000 non-null  object\n",
      "dtypes: int64(1), object(2)\n",
      "memory usage: 703.2+ KB\n"
     ]
    }
   ],
   "source": [
    "train_g.info()"
   ]
  },
  {
   "cell_type": "code",
   "execution_count": 46,
   "id": "da3336c8",
   "metadata": {},
   "outputs": [
    {
     "name": "stdout",
     "output_type": "stream",
     "text": [
      "<class 'pandas.core.frame.DataFrame'>\n",
      "RangeIndex: 6500 entries, 0 to 6499\n",
      "Data columns (total 3 columns):\n",
      " #   Column        Non-Null Count  Dtype \n",
      "---  ------        --------------  ----- \n",
      " 0   Rating        6500 non-null   int64 \n",
      " 1   Review_title  6500 non-null   object\n",
      " 2   Review        6500 non-null   object\n",
      "dtypes: int64(1), object(2)\n",
      "memory usage: 152.5+ KB\n"
     ]
    }
   ],
   "source": [
    "test_g.info()"
   ]
  },
  {
   "cell_type": "code",
   "execution_count": 11,
   "id": "72137480",
   "metadata": {
    "scrolled": false
   },
   "outputs": [
    {
     "data": {
      "text/html": [
       "<div>\n",
       "<style scoped>\n",
       "    .dataframe tbody tr th:only-of-type {\n",
       "        vertical-align: middle;\n",
       "    }\n",
       "\n",
       "    .dataframe tbody tr th {\n",
       "        vertical-align: top;\n",
       "    }\n",
       "\n",
       "    .dataframe thead th {\n",
       "        text-align: right;\n",
       "    }\n",
       "</style>\n",
       "<table border=\"1\" class=\"dataframe\">\n",
       "  <thead>\n",
       "    <tr style=\"text-align: right;\">\n",
       "      <th></th>\n",
       "      <th>Rating</th>\n",
       "    </tr>\n",
       "  </thead>\n",
       "  <tbody>\n",
       "    <tr>\n",
       "      <th>count</th>\n",
       "      <td>30000.000000</td>\n",
       "    </tr>\n",
       "    <tr>\n",
       "      <th>mean</th>\n",
       "      <td>3.000000</td>\n",
       "    </tr>\n",
       "    <tr>\n",
       "      <th>std</th>\n",
       "      <td>1.414237</td>\n",
       "    </tr>\n",
       "    <tr>\n",
       "      <th>min</th>\n",
       "      <td>1.000000</td>\n",
       "    </tr>\n",
       "    <tr>\n",
       "      <th>25%</th>\n",
       "      <td>2.000000</td>\n",
       "    </tr>\n",
       "    <tr>\n",
       "      <th>50%</th>\n",
       "      <td>3.000000</td>\n",
       "    </tr>\n",
       "    <tr>\n",
       "      <th>75%</th>\n",
       "      <td>4.000000</td>\n",
       "    </tr>\n",
       "    <tr>\n",
       "      <th>max</th>\n",
       "      <td>5.000000</td>\n",
       "    </tr>\n",
       "  </tbody>\n",
       "</table>\n",
       "</div>"
      ],
      "text/plain": [
       "             Rating\n",
       "count  30000.000000\n",
       "mean       3.000000\n",
       "std        1.414237\n",
       "min        1.000000\n",
       "25%        2.000000\n",
       "50%        3.000000\n",
       "75%        4.000000\n",
       "max        5.000000"
      ]
     },
     "execution_count": 11,
     "metadata": {},
     "output_type": "execute_result"
    }
   ],
   "source": [
    "train_g.describe()"
   ]
  },
  {
   "cell_type": "code",
   "execution_count": 12,
   "id": "6a896b9d",
   "metadata": {},
   "outputs": [
    {
     "data": {
      "text/html": [
       "<div>\n",
       "<style scoped>\n",
       "    .dataframe tbody tr th:only-of-type {\n",
       "        vertical-align: middle;\n",
       "    }\n",
       "\n",
       "    .dataframe tbody tr th {\n",
       "        vertical-align: top;\n",
       "    }\n",
       "\n",
       "    .dataframe thead th {\n",
       "        text-align: right;\n",
       "    }\n",
       "</style>\n",
       "<table border=\"1\" class=\"dataframe\">\n",
       "  <thead>\n",
       "    <tr style=\"text-align: right;\">\n",
       "      <th></th>\n",
       "      <th>Rating</th>\n",
       "      <th>Review_title</th>\n",
       "      <th>Review</th>\n",
       "    </tr>\n",
       "  </thead>\n",
       "  <tbody>\n",
       "    <tr>\n",
       "      <th>0</th>\n",
       "      <td>1</td>\n",
       "      <td>An amateur prank, if not a scam...</td>\n",
       "      <td>For all serious film buffs and film profession...</td>\n",
       "    </tr>\n",
       "    <tr>\n",
       "      <th>1</th>\n",
       "      <td>1</td>\n",
       "      <td>Excelent</td>\n",
       "      <td>Good price, excelent optical zom and video, ve...</td>\n",
       "    </tr>\n",
       "    <tr>\n",
       "      <th>2</th>\n",
       "      <td>1</td>\n",
       "      <td>Very Basic Overview</td>\n",
       "      <td>The Inductor Handbook was a real disappointmen...</td>\n",
       "    </tr>\n",
       "    <tr>\n",
       "      <th>3</th>\n",
       "      <td>1</td>\n",
       "      <td>Low price but...</td>\n",
       "      <td>How about they tried to ship this to me four, ...</td>\n",
       "    </tr>\n",
       "    <tr>\n",
       "      <th>4</th>\n",
       "      <td>1</td>\n",
       "      <td>HUH!</td>\n",
       "      <td>WHAT THE H##ll DID I buy?!?! this is the worst...</td>\n",
       "    </tr>\n",
       "  </tbody>\n",
       "</table>\n",
       "</div>"
      ],
      "text/plain": [
       "   Rating                        Review_title  \\\n",
       "0       1  An amateur prank, if not a scam...   \n",
       "1       1                            Excelent   \n",
       "2       1                 Very Basic Overview   \n",
       "3       1                    Low price but...   \n",
       "4       1                                HUH!   \n",
       "\n",
       "                                              Review  \n",
       "0  For all serious film buffs and film profession...  \n",
       "1  Good price, excelent optical zom and video, ve...  \n",
       "2  The Inductor Handbook was a real disappointmen...  \n",
       "3  How about they tried to ship this to me four, ...  \n",
       "4  WHAT THE H##ll DID I buy?!?! this is the worst...  "
      ]
     },
     "execution_count": 12,
     "metadata": {},
     "output_type": "execute_result"
    }
   ],
   "source": [
    "train_g.head()"
   ]
  },
  {
   "cell_type": "code",
   "execution_count": 13,
   "id": "fa5df149",
   "metadata": {},
   "outputs": [
    {
     "data": {
      "text/html": [
       "<div>\n",
       "<style scoped>\n",
       "    .dataframe tbody tr th:only-of-type {\n",
       "        vertical-align: middle;\n",
       "    }\n",
       "\n",
       "    .dataframe tbody tr th {\n",
       "        vertical-align: top;\n",
       "    }\n",
       "\n",
       "    .dataframe thead th {\n",
       "        text-align: right;\n",
       "    }\n",
       "</style>\n",
       "<table border=\"1\" class=\"dataframe\">\n",
       "  <thead>\n",
       "    <tr style=\"text-align: right;\">\n",
       "      <th></th>\n",
       "      <th>Rating</th>\n",
       "      <th>Review_title</th>\n",
       "      <th>Review</th>\n",
       "    </tr>\n",
       "  </thead>\n",
       "  <tbody>\n",
       "    <tr>\n",
       "      <th>0</th>\n",
       "      <td>1</td>\n",
       "      <td>cheap item. not happy with.</td>\n",
       "      <td>bought for 99c. shipped for 5.00. seller will ...</td>\n",
       "    </tr>\n",
       "    <tr>\n",
       "      <th>1</th>\n",
       "      <td>1</td>\n",
       "      <td>yawn!</td>\n",
       "      <td>I would like to echo the thoughts of the other...</td>\n",
       "    </tr>\n",
       "    <tr>\n",
       "      <th>2</th>\n",
       "      <td>1</td>\n",
       "      <td>Schenker lost in hollywood</td>\n",
       "      <td>This is without a doubt the worst record of Sc...</td>\n",
       "    </tr>\n",
       "    <tr>\n",
       "      <th>3</th>\n",
       "      <td>1</td>\n",
       "      <td>Poor Quality in a NEW DVD</td>\n",
       "      <td>I paid for a NEW copy of the Da Vinci Code and...</td>\n",
       "    </tr>\n",
       "    <tr>\n",
       "      <th>4</th>\n",
       "      <td>1</td>\n",
       "      <td>Stay away from the director's cut</td>\n",
       "      <td>Cinema Paradiso is one of my favorite movies e...</td>\n",
       "    </tr>\n",
       "  </tbody>\n",
       "</table>\n",
       "</div>"
      ],
      "text/plain": [
       "   Rating                       Review_title  \\\n",
       "0       1        cheap item. not happy with.   \n",
       "1       1                              yawn!   \n",
       "2       1         Schenker lost in hollywood   \n",
       "3       1          Poor Quality in a NEW DVD   \n",
       "4       1  Stay away from the director's cut   \n",
       "\n",
       "                                              Review  \n",
       "0  bought for 99c. shipped for 5.00. seller will ...  \n",
       "1  I would like to echo the thoughts of the other...  \n",
       "2  This is without a doubt the worst record of Sc...  \n",
       "3  I paid for a NEW copy of the Da Vinci Code and...  \n",
       "4  Cinema Paradiso is one of my favorite movies e...  "
      ]
     },
     "execution_count": 13,
     "metadata": {},
     "output_type": "execute_result"
    }
   ],
   "source": [
    "test_g.head()"
   ]
  },
  {
   "cell_type": "code",
   "execution_count": 43,
   "id": "183abc3c",
   "metadata": {},
   "outputs": [
    {
     "data": {
      "text/plain": [
       "array([1, 2, 3, 4, 5], dtype=int64)"
      ]
     },
     "execution_count": 43,
     "metadata": {},
     "output_type": "execute_result"
    }
   ],
   "source": [
    "train_g.Rating.unique()"
   ]
  },
  {
   "cell_type": "code",
   "execution_count": 44,
   "id": "211f6b58",
   "metadata": {},
   "outputs": [
    {
     "data": {
      "text/plain": [
       "array([1, 2, 3, 4, 5], dtype=int64)"
      ]
     },
     "execution_count": 44,
     "metadata": {},
     "output_type": "execute_result"
    }
   ],
   "source": [
    "test_g.Rating.unique()"
   ]
  },
  {
   "cell_type": "code",
   "execution_count": 47,
   "id": "9b348f00",
   "metadata": {},
   "outputs": [
    {
     "data": {
      "text/plain": [
       "1    6000\n",
       "2    6000\n",
       "3    6000\n",
       "4    6000\n",
       "5    6000\n",
       "Name: Rating, dtype: int64"
      ]
     },
     "execution_count": 47,
     "metadata": {},
     "output_type": "execute_result"
    }
   ],
   "source": [
    "train_g.Rating.value_counts()"
   ]
  },
  {
   "cell_type": "code",
   "execution_count": 48,
   "id": "88a837df",
   "metadata": {},
   "outputs": [
    {
     "data": {
      "text/plain": [
       "1    1300\n",
       "2    1300\n",
       "3    1300\n",
       "4    1300\n",
       "5    1300\n",
       "Name: Rating, dtype: int64"
      ]
     },
     "execution_count": 48,
     "metadata": {},
     "output_type": "execute_result"
    }
   ],
   "source": [
    "test_g.Rating.value_counts()"
   ]
  },
  {
   "cell_type": "markdown",
   "id": "17c50b08",
   "metadata": {},
   "source": [
    "### Observations:\n",
    "- All the ratings have equal number of samples both in train and test data ===> Dataset is balanced. Everthing's fine!!"
   ]
  },
  {
   "cell_type": "code",
   "execution_count": null,
   "id": "e84eefd5",
   "metadata": {},
   "outputs": [],
   "source": [
    "#to make plots to check for imbalanced data:\n",
    "\n",
    "import matplotlib.pyplot as plt\n",
    "%matplotlib inline\n",
    "print('Percentage for default\\n')\n",
    "print(round(Reviewdata.Is_Response.value_counts(normalize=True)*100,2))\n",
    "round(Reviewdata.Is_Response.value_counts(normalize=True)*100,2).plot(kind='bar')\n",
    "plt.title('Percentage Distributions by review type')\n",
    "plt.show()"
   ]
  },
  {
   "cell_type": "code",
   "execution_count": null,
   "id": "12be1ca3",
   "metadata": {},
   "outputs": [],
   "source": []
  },
  {
   "cell_type": "code",
   "execution_count": null,
   "id": "7257697d",
   "metadata": {},
   "outputs": [],
   "source": []
  },
  {
   "cell_type": "code",
   "execution_count": null,
   "id": "adb8c315",
   "metadata": {},
   "outputs": [],
   "source": []
  },
  {
   "cell_type": "markdown",
   "id": "4193cd53",
   "metadata": {},
   "source": [
    "# Pre-Processing:"
   ]
  },
  {
   "cell_type": "markdown",
   "id": "369629ce",
   "metadata": {},
   "source": [
    "### Observations:\n",
    "- Need to bring text in same form (like all in lower case)\n",
    "- Remove punctuations\n",
    "- Change every element in the sentences to strings as there are some integers in it.\n"
   ]
  },
  {
   "cell_type": "code",
   "execution_count": 14,
   "id": "6e74f0bc",
   "metadata": {},
   "outputs": [
    {
     "data": {
      "text/plain": [
       "'\\nHere,\\nre.sub(‘expression_to_replace’,’new_replacement’,’sentence’) removes all digits & punctuations \\n(except underscore:_) using the expression r’[^\\\\w\\\\s]’\\n'"
      ]
     },
     "execution_count": 14,
     "metadata": {},
     "output_type": "execute_result"
    }
   ],
   "source": [
    "#converting to lower case & removing punctuations:\n",
    "\n",
    "\n",
    "train_g['Review']=train_g['Review'].transform(lambda value:re.sub(r'[^\\w\\s]','',value.lower()))\n",
    "test_g['Review']=test_g['Review'].transform(lambda value:re.sub(r'[^\\w\\s]','',value.lower()))\n",
    "\n",
    "\n",
    "'''\n",
    "Here,\n",
    "re.sub(‘expression_to_replace’,’new_replacement’,’sentence’) removes all digits & punctuations \n",
    "(except underscore:_) using the expression r’[^\\w\\s]’\n",
    "'''\n"
   ]
  },
  {
   "cell_type": "code",
   "execution_count": 15,
   "id": "9a7e14cf",
   "metadata": {
    "scrolled": true
   },
   "outputs": [
    {
     "data": {
      "text/html": [
       "<div>\n",
       "<style scoped>\n",
       "    .dataframe tbody tr th:only-of-type {\n",
       "        vertical-align: middle;\n",
       "    }\n",
       "\n",
       "    .dataframe tbody tr th {\n",
       "        vertical-align: top;\n",
       "    }\n",
       "\n",
       "    .dataframe thead th {\n",
       "        text-align: right;\n",
       "    }\n",
       "</style>\n",
       "<table border=\"1\" class=\"dataframe\">\n",
       "  <thead>\n",
       "    <tr style=\"text-align: right;\">\n",
       "      <th></th>\n",
       "      <th>Rating</th>\n",
       "      <th>Review_title</th>\n",
       "      <th>Review</th>\n",
       "    </tr>\n",
       "  </thead>\n",
       "  <tbody>\n",
       "    <tr>\n",
       "      <th>0</th>\n",
       "      <td>1</td>\n",
       "      <td>An amateur prank, if not a scam...</td>\n",
       "      <td>for all serious film buffs and film profession...</td>\n",
       "    </tr>\n",
       "    <tr>\n",
       "      <th>1</th>\n",
       "      <td>1</td>\n",
       "      <td>Excelent</td>\n",
       "      <td>good price excelent optical zom and video very...</td>\n",
       "    </tr>\n",
       "    <tr>\n",
       "      <th>2</th>\n",
       "      <td>1</td>\n",
       "      <td>Very Basic Overview</td>\n",
       "      <td>the inductor handbook was a real disappointmen...</td>\n",
       "    </tr>\n",
       "    <tr>\n",
       "      <th>3</th>\n",
       "      <td>1</td>\n",
       "      <td>Low price but...</td>\n",
       "      <td>how about they tried to ship this to me four y...</td>\n",
       "    </tr>\n",
       "    <tr>\n",
       "      <th>4</th>\n",
       "      <td>1</td>\n",
       "      <td>HUH!</td>\n",
       "      <td>what the hll did i buy this is the worst mya c...</td>\n",
       "    </tr>\n",
       "  </tbody>\n",
       "</table>\n",
       "</div>"
      ],
      "text/plain": [
       "   Rating                        Review_title  \\\n",
       "0       1  An amateur prank, if not a scam...   \n",
       "1       1                            Excelent   \n",
       "2       1                 Very Basic Overview   \n",
       "3       1                    Low price but...   \n",
       "4       1                                HUH!   \n",
       "\n",
       "                                              Review  \n",
       "0  for all serious film buffs and film profession...  \n",
       "1  good price excelent optical zom and video very...  \n",
       "2  the inductor handbook was a real disappointmen...  \n",
       "3  how about they tried to ship this to me four y...  \n",
       "4  what the hll did i buy this is the worst mya c...  "
      ]
     },
     "execution_count": 15,
     "metadata": {},
     "output_type": "execute_result"
    }
   ],
   "source": [
    "train_g.head()\n"
   ]
  },
  {
   "cell_type": "code",
   "execution_count": 16,
   "id": "492e957e",
   "metadata": {},
   "outputs": [
    {
     "data": {
      "text/html": [
       "<div>\n",
       "<style scoped>\n",
       "    .dataframe tbody tr th:only-of-type {\n",
       "        vertical-align: middle;\n",
       "    }\n",
       "\n",
       "    .dataframe tbody tr th {\n",
       "        vertical-align: top;\n",
       "    }\n",
       "\n",
       "    .dataframe thead th {\n",
       "        text-align: right;\n",
       "    }\n",
       "</style>\n",
       "<table border=\"1\" class=\"dataframe\">\n",
       "  <thead>\n",
       "    <tr style=\"text-align: right;\">\n",
       "      <th></th>\n",
       "      <th>Rating</th>\n",
       "      <th>Review_title</th>\n",
       "      <th>Review</th>\n",
       "    </tr>\n",
       "  </thead>\n",
       "  <tbody>\n",
       "    <tr>\n",
       "      <th>0</th>\n",
       "      <td>1</td>\n",
       "      <td>cheap item. not happy with.</td>\n",
       "      <td>bought for 99c shipped for 500 seller will ref...</td>\n",
       "    </tr>\n",
       "    <tr>\n",
       "      <th>1</th>\n",
       "      <td>1</td>\n",
       "      <td>yawn!</td>\n",
       "      <td>i would like to echo the thoughts of the other...</td>\n",
       "    </tr>\n",
       "    <tr>\n",
       "      <th>2</th>\n",
       "      <td>1</td>\n",
       "      <td>Schenker lost in hollywood</td>\n",
       "      <td>this is without a doubt the worst record of sc...</td>\n",
       "    </tr>\n",
       "    <tr>\n",
       "      <th>3</th>\n",
       "      <td>1</td>\n",
       "      <td>Poor Quality in a NEW DVD</td>\n",
       "      <td>i paid for a new copy of the da vinci code and...</td>\n",
       "    </tr>\n",
       "    <tr>\n",
       "      <th>4</th>\n",
       "      <td>1</td>\n",
       "      <td>Stay away from the director's cut</td>\n",
       "      <td>cinema paradiso is one of my favorite movies e...</td>\n",
       "    </tr>\n",
       "  </tbody>\n",
       "</table>\n",
       "</div>"
      ],
      "text/plain": [
       "   Rating                       Review_title  \\\n",
       "0       1        cheap item. not happy with.   \n",
       "1       1                              yawn!   \n",
       "2       1         Schenker lost in hollywood   \n",
       "3       1          Poor Quality in a NEW DVD   \n",
       "4       1  Stay away from the director's cut   \n",
       "\n",
       "                                              Review  \n",
       "0  bought for 99c shipped for 500 seller will ref...  \n",
       "1  i would like to echo the thoughts of the other...  \n",
       "2  this is without a doubt the worst record of sc...  \n",
       "3  i paid for a new copy of the da vinci code and...  \n",
       "4  cinema paradiso is one of my favorite movies e...  "
      ]
     },
     "execution_count": 16,
     "metadata": {},
     "output_type": "execute_result"
    }
   ],
   "source": [
    "test_g.head()"
   ]
  },
  {
   "cell_type": "markdown",
   "id": "f2d83444",
   "metadata": {},
   "source": [
    "### Normalization:\n",
    "- Word Normalization using stemming:---> bringing all words into canonical form"
   ]
  },
  {
   "cell_type": "code",
   "execution_count": 17,
   "id": "689dbd91",
   "metadata": {},
   "outputs": [],
   "source": [
    "#Word Normalization:\n",
    "\n",
    "from nltk.stem import PorterStemmer\n",
    "\n",
    "\n",
    "ps=PorterStemmer()\n",
    "train_g['Review']=train_g['Review'].transform(lambda value:' '.join( [ps.stem(word) for word in value.split(' ')]))\n",
    "test_g['Review']=test_g['Review'].transform(lambda value:' '.join( [ps.stem(word) for word in value.split(' ')]))\n",
    "\n",
    "\n",
    "#lambda function used splits the string using space:’ ’, applies porter stemmer on the word using list comprehension \n",
    "#& finally joins the entire sentence using ‘ ’.join()\n"
   ]
  },
  {
   "cell_type": "code",
   "execution_count": 18,
   "id": "7f3c0487",
   "metadata": {
    "scrolled": true
   },
   "outputs": [
    {
     "data": {
      "text/html": [
       "<div>\n",
       "<style scoped>\n",
       "    .dataframe tbody tr th:only-of-type {\n",
       "        vertical-align: middle;\n",
       "    }\n",
       "\n",
       "    .dataframe tbody tr th {\n",
       "        vertical-align: top;\n",
       "    }\n",
       "\n",
       "    .dataframe thead th {\n",
       "        text-align: right;\n",
       "    }\n",
       "</style>\n",
       "<table border=\"1\" class=\"dataframe\">\n",
       "  <thead>\n",
       "    <tr style=\"text-align: right;\">\n",
       "      <th></th>\n",
       "      <th>Rating</th>\n",
       "      <th>Review_title</th>\n",
       "      <th>Review</th>\n",
       "    </tr>\n",
       "  </thead>\n",
       "  <tbody>\n",
       "    <tr>\n",
       "      <th>0</th>\n",
       "      <td>1</td>\n",
       "      <td>An amateur prank, if not a scam...</td>\n",
       "      <td>for all seriou film buff and film profession o...</td>\n",
       "    </tr>\n",
       "    <tr>\n",
       "      <th>1</th>\n",
       "      <td>1</td>\n",
       "      <td>Excelent</td>\n",
       "      <td>good price excel optic zom and video veri easi...</td>\n",
       "    </tr>\n",
       "    <tr>\n",
       "      <th>2</th>\n",
       "      <td>1</td>\n",
       "      <td>Very Basic Overview</td>\n",
       "      <td>the inductor handbook wa a real disappoint the...</td>\n",
       "    </tr>\n",
       "    <tr>\n",
       "      <th>3</th>\n",
       "      <td>1</td>\n",
       "      <td>Low price but...</td>\n",
       "      <td>how about they tri to ship thi to me four ye f...</td>\n",
       "    </tr>\n",
       "    <tr>\n",
       "      <th>4</th>\n",
       "      <td>1</td>\n",
       "      <td>HUH!</td>\n",
       "      <td>what the hll did i buy thi is the worst mya cd...</td>\n",
       "    </tr>\n",
       "  </tbody>\n",
       "</table>\n",
       "</div>"
      ],
      "text/plain": [
       "   Rating                        Review_title  \\\n",
       "0       1  An amateur prank, if not a scam...   \n",
       "1       1                            Excelent   \n",
       "2       1                 Very Basic Overview   \n",
       "3       1                    Low price but...   \n",
       "4       1                                HUH!   \n",
       "\n",
       "                                              Review  \n",
       "0  for all seriou film buff and film profession o...  \n",
       "1  good price excel optic zom and video veri easi...  \n",
       "2  the inductor handbook wa a real disappoint the...  \n",
       "3  how about they tri to ship thi to me four ye f...  \n",
       "4  what the hll did i buy thi is the worst mya cd...  "
      ]
     },
     "execution_count": 18,
     "metadata": {},
     "output_type": "execute_result"
    }
   ],
   "source": [
    "train_g.head()"
   ]
  },
  {
   "cell_type": "code",
   "execution_count": 19,
   "id": "9078001b",
   "metadata": {},
   "outputs": [
    {
     "data": {
      "text/html": [
       "<div>\n",
       "<style scoped>\n",
       "    .dataframe tbody tr th:only-of-type {\n",
       "        vertical-align: middle;\n",
       "    }\n",
       "\n",
       "    .dataframe tbody tr th {\n",
       "        vertical-align: top;\n",
       "    }\n",
       "\n",
       "    .dataframe thead th {\n",
       "        text-align: right;\n",
       "    }\n",
       "</style>\n",
       "<table border=\"1\" class=\"dataframe\">\n",
       "  <thead>\n",
       "    <tr style=\"text-align: right;\">\n",
       "      <th></th>\n",
       "      <th>Rating</th>\n",
       "      <th>Review_title</th>\n",
       "      <th>Review</th>\n",
       "    </tr>\n",
       "  </thead>\n",
       "  <tbody>\n",
       "    <tr>\n",
       "      <th>0</th>\n",
       "      <td>1</td>\n",
       "      <td>cheap item. not happy with.</td>\n",
       "      <td>bought for 99c ship for 500 seller will refund...</td>\n",
       "    </tr>\n",
       "    <tr>\n",
       "      <th>1</th>\n",
       "      <td>1</td>\n",
       "      <td>yawn!</td>\n",
       "      <td>i would like to echo the thought of the other ...</td>\n",
       "    </tr>\n",
       "    <tr>\n",
       "      <th>2</th>\n",
       "      <td>1</td>\n",
       "      <td>Schenker lost in hollywood</td>\n",
       "      <td>thi is without a doubt the worst record of sch...</td>\n",
       "    </tr>\n",
       "    <tr>\n",
       "      <th>3</th>\n",
       "      <td>1</td>\n",
       "      <td>Poor Quality in a NEW DVD</td>\n",
       "      <td>i paid for a new copi of the da vinci code and...</td>\n",
       "    </tr>\n",
       "    <tr>\n",
       "      <th>4</th>\n",
       "      <td>1</td>\n",
       "      <td>Stay away from the director's cut</td>\n",
       "      <td>cinema paradiso is one of my favorit movi ever...</td>\n",
       "    </tr>\n",
       "  </tbody>\n",
       "</table>\n",
       "</div>"
      ],
      "text/plain": [
       "   Rating                       Review_title  \\\n",
       "0       1        cheap item. not happy with.   \n",
       "1       1                              yawn!   \n",
       "2       1         Schenker lost in hollywood   \n",
       "3       1          Poor Quality in a NEW DVD   \n",
       "4       1  Stay away from the director's cut   \n",
       "\n",
       "                                              Review  \n",
       "0  bought for 99c ship for 500 seller will refund...  \n",
       "1  i would like to echo the thought of the other ...  \n",
       "2  thi is without a doubt the worst record of sch...  \n",
       "3  i paid for a new copi of the da vinci code and...  \n",
       "4  cinema paradiso is one of my favorit movi ever...  "
      ]
     },
     "execution_count": 19,
     "metadata": {},
     "output_type": "execute_result"
    }
   ],
   "source": [
    "test_g.head()"
   ]
  },
  {
   "cell_type": "code",
   "execution_count": 52,
   "id": "8b8fc9c2",
   "metadata": {},
   "outputs": [
    {
     "data": {
      "text/plain": [
       "407"
      ]
     },
     "execution_count": 52,
     "metadata": {},
     "output_type": "execute_result"
    }
   ],
   "source": [
    "#Finding max length of a review in train set. # This can be used later on to find out the length of our word embedding.\n",
    "\n",
    "from nltk.tokenize import word_tokenize\n",
    "\n",
    "\n",
    "r_len=[]\n",
    "for text in train_g.Review:\n",
    "    word=word_tokenize(str(text))\n",
    "    length=len(word)\n",
    "    r_len.append(length)\n",
    "    \n",
    "MAX_REVIEW_LEN=np.max(r_len)\n",
    "MAX_REVIEW_LEN"
   ]
  },
  {
   "cell_type": "code",
   "execution_count": null,
   "id": "84397199",
   "metadata": {},
   "outputs": [],
   "source": []
  },
  {
   "cell_type": "code",
   "execution_count": 20,
   "id": "045c149c",
   "metadata": {},
   "outputs": [],
   "source": [
    "#some of our reviews have integers which Keras Tokenizer can't deal with, so we will convert everything to strings.\n",
    "\n",
    "train_g['Review']=[str (item) for item in train_g['Review']]\n",
    "test_g['Review']=[str (item) for item in test_g['Review']]"
   ]
  },
  {
   "cell_type": "markdown",
   "id": "ced4420d",
   "metadata": {},
   "source": [
    "## Word Embedding:"
   ]
  },
  {
   "cell_type": "code",
   "execution_count": 21,
   "id": "048edb49",
   "metadata": {},
   "outputs": [],
   "source": [
    "#word embedding using gensim's Word2Vec\n",
    "\n",
    "from gensim.models import Word2Vec\n",
    "all_reviews=list([sentence.split(' ') for sentence in train_g['Review']])+list([sentence.split(' ') for\\\n",
    "                                                                               sentence in test_g['Review']])\n",
    "all_reviews=[x for x in all_reviews if str(x)!='nan']  \n",
    "w2v=Word2Vec(all_reviews,vector_size=32,min_count=1,epochs=20)\n",
    "vector=w2v.wv.vectors\n"
   ]
  },
  {
   "cell_type": "code",
   "execution_count": 22,
   "id": "0cc29997",
   "metadata": {},
   "outputs": [
    {
     "data": {
      "text/plain": [
       "array([[ 9.4312632e-01,  2.9378893e+00,  1.2585325e+00, ...,\n",
       "         2.0502758e+00,  9.0726238e-01,  5.4350939e+00],\n",
       "       [ 1.6552215e+00,  1.8092480e+00,  1.3605517e-01, ...,\n",
       "        -3.4785914e-01, -3.9675288e-02,  2.4053090e+00],\n",
       "       [ 3.1529710e+00,  2.2829568e+00, -9.6757567e-01, ...,\n",
       "         2.6887906e+00,  3.1965210e+00,  2.4357827e+00],\n",
       "       ...,\n",
       "       [-8.9254584e-03,  9.1037102e-02, -4.3973498e-02, ...,\n",
       "         5.2044421e-02, -1.0588109e-01, -8.8877436e-03],\n",
       "       [-8.9719594e-02, -7.5723141e-02, -6.6624209e-02, ...,\n",
       "        -8.7609492e-02,  5.4001058e-03,  7.8578684e-03],\n",
       "       [-4.2727839e-02, -2.1533245e-01,  5.1889542e-02, ...,\n",
       "         1.7253259e-02, -3.5328679e-02, -6.7412998e-03]], dtype=float32)"
      ]
     },
     "execution_count": 22,
     "metadata": {},
     "output_type": "execute_result"
    }
   ],
   "source": [
    "vector"
   ]
  },
  {
   "cell_type": "code",
   "execution_count": 23,
   "id": "0eaa0f5d",
   "metadata": {},
   "outputs": [
    {
     "data": {
      "text/plain": [
       "(75634, 32)"
      ]
     },
     "execution_count": 23,
     "metadata": {},
     "output_type": "execute_result"
    }
   ],
   "source": [
    "vector.shape"
   ]
  },
  {
   "cell_type": "code",
   "execution_count": 24,
   "id": "18572444",
   "metadata": {},
   "outputs": [
    {
     "name": "stdout",
     "output_type": "stream",
     "text": [
      "(30000, 128)\n",
      "(6500, 128)\n",
      "[[    7   742 11576 ...   379   294   732]\n",
      " [    0     0     0 ...     5   531   234]\n",
      " [    0     0     0 ...     2  1388   545]\n",
      " ...\n",
      " [    0     0     0 ...    76     5   462]\n",
      " [    0     0     0 ...    20    46  3339]\n",
      " [    0     0     0 ...   204     1   190]]\n",
      "[[    0     0     0 ...     6    78   418]\n",
      " [    0     0     0 ... 20270    13   388]\n",
      " [    7 18988  1281 ...     1  1239  3207]\n",
      " ...\n",
      " [    0     0     0 ...    38     9   100]\n",
      " [    0     0     0 ... 75568    68   237]\n",
      " [    0     0     0 ...     4    46   433]]\n"
     ]
    }
   ],
   "source": [
    "#Tokenization\n",
    "\n",
    "maxlength=128 \n",
    "#maxlength=MAX_REVIEW_LEN\n",
    "#Ideally, we should decide this length after figuring out the max length/avg length of our sentences/reviews.\n",
    "#which we have done above. And max length was=407. But we will take it 128 for now to save space and time!!! :) \n",
    "\n",
    "\n",
    "from keras.preprocessing.text import Tokenizer\n",
    "from tensorflow.keras.preprocessing import sequence,text\n",
    "\n",
    "\n",
    "t=Tokenizer(split=\" \")\n",
    "t.fit_on_texts(list(train_g['Review'])+list(test_g['Review']))\n",
    "\n",
    "train_g['Review']=t.texts_to_sequences(train_g['Review'])\n",
    "test_g['Review']=t.texts_to_sequences(test_g['Review'])\n",
    "\n",
    "train_f=sequence.pad_sequences(train_g['Review'],maxlen=maxlength)\n",
    "test_f=sequence.pad_sequences(test_g['Review'],maxlen=maxlength)\n",
    "\n",
    "\n",
    "print(train_f.shape)\n",
    "print(test_f.shape)\n",
    "\n",
    "print(train_f)\n",
    "print(test_f)"
   ]
  },
  {
   "cell_type": "code",
   "execution_count": 25,
   "id": "c28a373b",
   "metadata": {},
   "outputs": [],
   "source": [
    "#creating training and validation dataset\n",
    "\n",
    "from sklearn.model_selection import train_test_split as tts\n",
    "\n",
    "#Since 'Rating' has value of ---> (1,2,3,4,5), but we need 0,1,2,3,4 as label inputs--> Thus we will minus 1.\n",
    "#Later on, we will add 1 to the final predicted values of 'Rating'.\n",
    "label=train_g['Rating']-1\n",
    "\n",
    "\n",
    "xtrain,xvalid,ztrain,zvalid=tts(train_f,label,train_size=0.8, random_state = 1)"
   ]
  },
  {
   "cell_type": "code",
   "execution_count": 26,
   "id": "fca01b2e",
   "metadata": {},
   "outputs": [
    {
     "data": {
      "text/plain": [
       "0        0\n",
       "1        0\n",
       "2        0\n",
       "3        0\n",
       "4        0\n",
       "        ..\n",
       "29995    4\n",
       "29996    4\n",
       "29997    4\n",
       "29998    4\n",
       "29999    4\n",
       "Name: Rating, Length: 30000, dtype: int64"
      ]
     },
     "execution_count": 26,
     "metadata": {},
     "output_type": "execute_result"
    }
   ],
   "source": [
    "label"
   ]
  },
  {
   "cell_type": "code",
   "execution_count": 38,
   "id": "5e603a30",
   "metadata": {},
   "outputs": [
    {
     "name": "stdout",
     "output_type": "stream",
     "text": [
      "(24000, 128)\n"
     ]
    }
   ],
   "source": [
    "print(xtrain.shape)\n"
   ]
  },
  {
   "cell_type": "code",
   "execution_count": 27,
   "id": "bcaf7cf5",
   "metadata": {},
   "outputs": [
    {
     "data": {
      "text/plain": [
       "array([[    0,     0,     0, ...,    24,  4949, 34305],\n",
       "       [   10,     1,   279, ...,   622,    15,   148],\n",
       "       [    0,     0,     0, ...,    11,  1240,  1081],\n",
       "       ...,\n",
       "       [    0,     0,     0, ...,    45,   540,   708],\n",
       "       [    0,     0,     0, ...,     1,   737,  3019],\n",
       "       [    0,     0,     0, ...,     5,  1019,    41]])"
      ]
     },
     "execution_count": 27,
     "metadata": {},
     "output_type": "execute_result"
    }
   ],
   "source": [
    "xtrain"
   ]
  },
  {
   "cell_type": "code",
   "execution_count": 28,
   "id": "acdbbf2c",
   "metadata": {},
   "outputs": [
    {
     "data": {
      "text/plain": [
       "array([[   0,    0,    0, ...,  146,    7, 1759],\n",
       "       [   0,    0,    0, ...,  910,   23,   73],\n",
       "       [   0,    0,    0, ...,  535,    2, 3620],\n",
       "       ...,\n",
       "       [   0,    0,    0, ...,   51,    3,  193],\n",
       "       [   0,    0,    0, ...,  828,    7,   45],\n",
       "       [   0,    0,    0, ..., 1987,    1,  517]])"
      ]
     },
     "execution_count": 28,
     "metadata": {},
     "output_type": "execute_result"
    }
   ],
   "source": [
    "xvalid"
   ]
  },
  {
   "cell_type": "code",
   "execution_count": 29,
   "id": "276189cf",
   "metadata": {},
   "outputs": [
    {
     "data": {
      "text/plain": [
       "5851     0\n",
       "22473    3\n",
       "8078     1\n",
       "14589    2\n",
       "15383    2\n",
       "        ..\n",
       "2380     0\n",
       "13011    2\n",
       "3900     0\n",
       "5726     0\n",
       "261      0\n",
       "Name: Rating, Length: 24000, dtype: int64"
      ]
     },
     "execution_count": 29,
     "metadata": {},
     "output_type": "execute_result"
    }
   ],
   "source": [
    "ztrain"
   ]
  },
  {
   "cell_type": "code",
   "execution_count": 30,
   "id": "6aa8ece7",
   "metadata": {},
   "outputs": [
    {
     "data": {
      "text/plain": [
       "14634    2\n",
       "24078    4\n",
       "27171    4\n",
       "5865     0\n",
       "20099    3\n",
       "        ..\n",
       "28481    4\n",
       "6960     1\n",
       "11914    1\n",
       "14171    2\n",
       "16384    2\n",
       "Name: Rating, Length: 6000, dtype: int64"
      ]
     },
     "execution_count": 30,
     "metadata": {},
     "output_type": "execute_result"
    }
   ],
   "source": [
    "zvalid"
   ]
  },
  {
   "cell_type": "code",
   "execution_count": 31,
   "id": "3025a909",
   "metadata": {},
   "outputs": [
    {
     "name": "stdout",
     "output_type": "stream",
     "text": [
      "<class 'numpy.ndarray'>\n",
      "<class 'pandas.core.series.Series'>\n",
      "<class 'numpy.ndarray'>\n",
      "<class 'numpy.ndarray'>\n",
      "<class 'pandas.core.series.Series'>\n",
      "<class 'numpy.ndarray'>\n"
     ]
    }
   ],
   "source": [
    "print(type(xtrain))\n",
    "print(type(ztrain))\n",
    "print(type(np.array(ztrain)))\n",
    "\n",
    "print(type(xvalid))\n",
    "print(type(zvalid))\n",
    "print(type(np.array(zvalid)))"
   ]
  },
  {
   "cell_type": "markdown",
   "id": "fdea7a5c",
   "metadata": {},
   "source": [
    "Since xtrain, xvalid are array & ztrain, zvalid are series, we will have to make them all array type and keep their shape aligned as well, when we input them in our model for training."
   ]
  },
  {
   "cell_type": "markdown",
   "id": "73657c7b",
   "metadata": {},
   "source": [
    "## Building our model:"
   ]
  },
  {
   "cell_type": "code",
   "execution_count": 32,
   "id": "e7758a05",
   "metadata": {
    "scrolled": true
   },
   "outputs": [
    {
     "name": "stdout",
     "output_type": "stream",
     "text": [
      "Model: \"sequential\"\n",
      "_________________________________________________________________\n",
      " Layer (type)                Output Shape              Param #   \n",
      "=================================================================\n",
      " embedding (Embedding)       (None, 128, 32)           2420288   \n",
      "                                                                 \n",
      " lstm (LSTM)                 (None, 128, 64)           24832     \n",
      "                                                                 \n",
      " flatten (Flatten)           (None, 8192)              0         \n",
      "                                                                 \n",
      " dense (Dense)               (None, 256)               2097408   \n",
      "                                                                 \n",
      " dropout (Dropout)           (None, 256)               0         \n",
      "                                                                 \n",
      " dense_1 (Dense)             (None, 64)                16448     \n",
      "                                                                 \n",
      " dropout_1 (Dropout)         (None, 64)                0         \n",
      "                                                                 \n",
      " dense_2 (Dense)             (None, 5)                 325       \n",
      "                                                                 \n",
      "=================================================================\n",
      "Total params: 4,559,301\n",
      "Trainable params: 4,559,301\n",
      "Non-trainable params: 0\n",
      "_________________________________________________________________\n"
     ]
    }
   ],
   "source": [
    "#Neural network\n",
    "\n",
    "model = Sequential()\n",
    "model.add(Embedding(vector.shape[0], vector.shape[1], weights=[vector], input_length=maxlength)) #maxlength=128\n",
    "model.add(LSTM(64,dropout=0.2,recurrent_dropout=0.2,return_sequences=True))\n",
    "model.add(Flatten())\n",
    "model.add(Dense(256, activation='relu'))\n",
    "model.add(Dropout(0.1))\n",
    "model.add(Dense(64, activation='relu'))\n",
    "model.add(Dropout(0.1))\n",
    "model.add(Dense(5, activation='softmax'))  #using softmax since it is a mutliclass classification problem.\n",
    "\n",
    "model.compile(loss='sparse_categorical_crossentropy', optimizer='adam', metrics=['accuracy'])\n",
    "\n",
    "model.summary()\n",
    "\n"
   ]
  },
  {
   "cell_type": "code",
   "execution_count": null,
   "id": "ba6cf496",
   "metadata": {},
   "outputs": [],
   "source": [
    "np.array(ztrain).reshape(-1,1),validation_data=(xvalid.reshape(-1,256),\\\n",
    "                                np.array(zvalid).reshape(-1,1)"
   ]
  },
  {
   "cell_type": "code",
   "execution_count": 34,
   "id": "0a622412",
   "metadata": {},
   "outputs": [
    {
     "data": {
      "text/plain": [
       "(12000, 256)"
      ]
     },
     "execution_count": 34,
     "metadata": {},
     "output_type": "execute_result"
    }
   ],
   "source": [
    "xtrain.reshape(-1,256).shape"
   ]
  },
  {
   "cell_type": "code",
   "execution_count": 35,
   "id": "395e075c",
   "metadata": {},
   "outputs": [
    {
     "data": {
      "text/plain": [
       "(24000, 1)"
      ]
     },
     "execution_count": 35,
     "metadata": {},
     "output_type": "execute_result"
    }
   ],
   "source": [
    "np.array(ztrain).reshape(-1,1).shape"
   ]
  },
  {
   "cell_type": "code",
   "execution_count": 36,
   "id": "ab4b6f28",
   "metadata": {},
   "outputs": [
    {
     "data": {
      "text/plain": [
       "(3000, 256)"
      ]
     },
     "execution_count": 36,
     "metadata": {},
     "output_type": "execute_result"
    }
   ],
   "source": [
    "xvalid.reshape(-1,256).shape"
   ]
  },
  {
   "cell_type": "code",
   "execution_count": 41,
   "id": "90712a1f",
   "metadata": {},
   "outputs": [
    {
     "name": "stdout",
     "output_type": "stream",
     "text": [
      "(24000, 128)\n",
      "(24000, 1)\n",
      "(6000, 128)\n",
      "(6000, 1)\n"
     ]
    }
   ],
   "source": [
    "#checking shape before feeding them into our neural network model\n",
    "print(xtrain.shape)\n",
    "print(np.array(ztrain).reshape(-1,1).shape)\n",
    "\n",
    "print(xvalid.shape)\n",
    "print(np.array(zvalid).reshape(-1,1).shape)"
   ]
  },
  {
   "cell_type": "markdown",
   "id": "af82e988",
   "metadata": {},
   "source": [
    "# Training the model:"
   ]
  },
  {
   "cell_type": "code",
   "execution_count": 42,
   "id": "f78c0519",
   "metadata": {},
   "outputs": [
    {
     "name": "stdout",
     "output_type": "stream",
     "text": [
      "Epoch 1/10\n",
      "375/375 [==============================] - ETA: 0s - loss: 1.5497 - accuracy: 0.2821\n",
      "Epoch 1: val_loss improved from inf to 1.48110, saving model to weights.best.hdf5\n",
      "375/375 [==============================] - 99s 239ms/step - loss: 1.5497 - accuracy: 0.2821 - val_loss: 1.4811 - val_accuracy: 0.3375\n",
      "Epoch 2/10\n",
      "375/375 [==============================] - ETA: 0s - loss: 1.3905 - accuracy: 0.3919\n",
      "Epoch 2: val_loss improved from 1.48110 to 1.36944, saving model to weights.best.hdf5\n",
      "375/375 [==============================] - 81s 216ms/step - loss: 1.3905 - accuracy: 0.3919 - val_loss: 1.3694 - val_accuracy: 0.4028\n",
      "Epoch 3/10\n",
      "375/375 [==============================] - ETA: 0s - loss: 1.2487 - accuracy: 0.4685\n",
      "Epoch 3: val_loss improved from 1.36944 to 1.36421, saving model to weights.best.hdf5\n",
      "375/375 [==============================] - 83s 221ms/step - loss: 1.2487 - accuracy: 0.4685 - val_loss: 1.3642 - val_accuracy: 0.4022\n",
      "Epoch 4/10\n",
      "375/375 [==============================] - ETA: 0s - loss: 1.0276 - accuracy: 0.5826\n",
      "Epoch 4: val_loss did not improve from 1.36421\n",
      "375/375 [==============================] - 88s 234ms/step - loss: 1.0276 - accuracy: 0.5826 - val_loss: 1.4709 - val_accuracy: 0.3843\n",
      "Epoch 5/10\n",
      "375/375 [==============================] - ETA: 0s - loss: 0.7690 - accuracy: 0.6987\n",
      "Epoch 5: val_loss did not improve from 1.36421\n",
      "375/375 [==============================] - 83s 220ms/step - loss: 0.7690 - accuracy: 0.6987 - val_loss: 1.6558 - val_accuracy: 0.3805\n",
      "Epoch 6/10\n",
      "375/375 [==============================] - ETA: 0s - loss: 0.5591 - accuracy: 0.7869\n",
      "Epoch 6: val_loss did not improve from 1.36421\n",
      "375/375 [==============================] - 86s 229ms/step - loss: 0.5591 - accuracy: 0.7869 - val_loss: 1.9001 - val_accuracy: 0.3760\n",
      "Epoch 7/10\n",
      "375/375 [==============================] - ETA: 0s - loss: 0.3932 - accuracy: 0.8569\n",
      "Epoch 7: val_loss did not improve from 1.36421\n",
      "375/375 [==============================] - 85s 228ms/step - loss: 0.3932 - accuracy: 0.8569 - val_loss: 2.2401 - val_accuracy: 0.3755\n",
      "Epoch 8/10\n",
      "375/375 [==============================] - ETA: 0s - loss: 0.2989 - accuracy: 0.8924\n",
      "Epoch 8: val_loss did not improve from 1.36421\n",
      "375/375 [==============================] - 71s 190ms/step - loss: 0.2989 - accuracy: 0.8924 - val_loss: 2.5354 - val_accuracy: 0.3575\n",
      "Epoch 9/10\n",
      "375/375 [==============================] - ETA: 0s - loss: 0.2342 - accuracy: 0.9195\n",
      "Epoch 9: val_loss did not improve from 1.36421\n",
      "375/375 [==============================] - 71s 190ms/step - loss: 0.2342 - accuracy: 0.9195 - val_loss: 2.7449 - val_accuracy: 0.3548\n",
      "Epoch 10/10\n",
      "375/375 [==============================] - ETA: 0s - loss: 0.1974 - accuracy: 0.9314\n",
      "Epoch 10: val_loss did not improve from 1.36421\n",
      "375/375 [==============================] - 71s 189ms/step - loss: 0.1974 - accuracy: 0.9314 - val_loss: 2.7667 - val_accuracy: 0.3562\n"
     ]
    },
    {
     "data": {
      "text/plain": [
       "<keras.callbacks.History at 0x1d42e3c7850>"
      ]
     },
     "execution_count": 42,
     "metadata": {},
     "output_type": "execute_result"
    }
   ],
   "source": [
    "#training the model:\n",
    "\n",
    "%%time\n",
    "\n",
    "checkpointer = tf.keras.callbacks.ModelCheckpoint(filepath='weights.best.hdf5', verbose = 1, save_best_only = True)\n",
    "\n",
    "'''features_type = tf.float32\n",
    "target_type = tf.int32\n",
    "\n",
    "train_dataset = tf.data.Dataset.from_tensor_slices(tf.cast(xtrain, features_type),\\\n",
    "                                                   tf.cast(ztrain, target_type))\n",
    "\n",
    "model.fit(train_dataset, epochs=5, verbose=1)\n",
    "'''\n",
    "\n",
    "#model.fit(xtrain.reshape(-1,256),np.array(ztrain).reshape(-1,1))\n",
    "\n",
    "model.fit(xtrain,np.array(ztrain).reshape(-1,1),validation_data=(xvalid,\\\n",
    "                                np.array(zvalid).reshape(-1,1)),epochs=10,batch_size=64,verbose=1,callbacks=[checkpointer])\n",
    "\n"
   ]
  },
  {
   "cell_type": "code",
   "execution_count": null,
   "id": "4c90de6b",
   "metadata": {},
   "outputs": [],
   "source": []
  },
  {
   "cell_type": "markdown",
   "id": "391ccc26",
   "metadata": {},
   "source": [
    "## Prediction:"
   ]
  },
  {
   "cell_type": "code",
   "execution_count": 80,
   "id": "5084e1d2",
   "metadata": {},
   "outputs": [
    {
     "name": "stdout",
     "output_type": "stream",
     "text": [
      "204/204 [==============================] - 4s 21ms/step\n",
      "Prediction array shape: (6500,)\n"
     ]
    },
    {
     "data": {
      "text/plain": [
       "array([1, 2, 3, ..., 5, 5, 3], dtype=int64)"
      ]
     },
     "execution_count": 80,
     "metadata": {},
     "output_type": "execute_result"
    }
   ],
   "source": [
    "#z_pred=model.predict(test_f)\n",
    "z_pred=np.argmax(model.predict(test_f), axis=-1)\n",
    "z_pred=z_pred+1\n",
    "\n",
    "print(\"Prediction array shape:\",z_pred.shape)\n",
    "z_pred"
   ]
  },
  {
   "cell_type": "code",
   "execution_count": null,
   "id": "3185dd31",
   "metadata": {},
   "outputs": [],
   "source": []
  },
  {
   "cell_type": "code",
   "execution_count": 81,
   "id": "147e36cb",
   "metadata": {},
   "outputs": [
    {
     "name": "stdout",
     "output_type": "stream",
     "text": [
      "Confusion matrics:\n",
      " [[590 340 180  90 100]\n",
      " [334 396 292 156 122]\n",
      " [183 328 324 255 210]\n",
      " [132 181 250 338 399]\n",
      " [102 118 136 272 672]]\n",
      "Accuracy :  0.3569230769230769\n",
      "Precision :  0.35119072827567016\n",
      "Recall :  0.3569230769230769\n"
     ]
    }
   ],
   "source": [
    "#calculating metrics:\n",
    "\n",
    "\n",
    "from sklearn.metrics import confusion_matrix\n",
    "from sklearn.metrics import accuracy_score, precision_score, recall_score\n",
    "\n",
    "z_test=test_g['Rating']\n",
    "\n",
    "\n",
    "print(\"Confusion matrics:\\n\", confusion_matrix(z_test,z_pred))\n",
    "print(\"Accuracy : \", accuracy_score(z_test,z_pred))\n",
    "print(\"Precision : \", precision_score(z_test, z_pred, average = 'weighted'))\n",
    "print(\"Recall : \", recall_score(z_test, z_pred, average = 'weighted'))"
   ]
  },
  {
   "cell_type": "code",
   "execution_count": null,
   "id": "18c0720e",
   "metadata": {},
   "outputs": [],
   "source": []
  },
  {
   "cell_type": "code",
   "execution_count": null,
   "id": "6b80379a",
   "metadata": {},
   "outputs": [],
   "source": []
  },
  {
   "cell_type": "code",
   "execution_count": 74,
   "id": "013cff4a",
   "metadata": {},
   "outputs": [
    {
     "name": "stdout",
     "output_type": "stream",
     "text": [
      "WARNING:tensorflow:Model was constructed with shape (None, 128) for input KerasTensor(type_spec=TensorSpec(shape=(None, 128), dtype=tf.float32, name='embedding_input'), name='embedding_input', description=\"created by layer 'embedding_input'\"), but it was called on an input with incompatible shape (None,).\n"
     ]
    },
    {
     "ename": "ValueError",
     "evalue": "in user code:\n\n    File \"C:\\Anaconda3\\lib\\site-packages\\keras\\engine\\training.py\", line 2041, in predict_function  *\n        return step_function(self, iterator)\n    File \"C:\\Anaconda3\\lib\\site-packages\\keras\\engine\\training.py\", line 2027, in step_function  **\n        outputs = model.distribute_strategy.run(run_step, args=(data,))\n    File \"C:\\Anaconda3\\lib\\site-packages\\keras\\engine\\training.py\", line 2015, in run_step  **\n        outputs = model.predict_step(data)\n    File \"C:\\Anaconda3\\lib\\site-packages\\keras\\engine\\training.py\", line 1983, in predict_step\n        return self(x, training=False)\n    File \"C:\\Anaconda3\\lib\\site-packages\\keras\\utils\\traceback_utils.py\", line 70, in error_handler\n        raise e.with_traceback(filtered_tb) from None\n    File \"C:\\Anaconda3\\lib\\site-packages\\keras\\engine\\input_spec.py\", line 232, in assert_input_compatibility\n        raise ValueError(\n\n    ValueError: Exception encountered when calling layer \"sequential\" \"                 f\"(type Sequential).\n    \n    Input 0 of layer \"lstm\" is incompatible with the layer: expected ndim=3, found ndim=2. Full shape received: (None, 32)\n    \n    Call arguments received by layer \"sequential\" \"                 f\"(type Sequential):\n      • inputs=tf.Tensor(shape=(None,), dtype=string)\n      • training=False\n      • mask=None\n",
     "output_type": "error",
     "traceback": [
      "\u001b[1;31m---------------------------------------------------------------------------\u001b[0m",
      "\u001b[1;31mValueError\u001b[0m                                Traceback (most recent call last)",
      "Input \u001b[1;32mIn [74]\u001b[0m, in \u001b[0;36m<cell line: 5>\u001b[1;34m()\u001b[0m\n\u001b[0;32m      1\u001b[0m \u001b[38;5;66;03m#trying on new random review\u001b[39;00m\n\u001b[0;32m      3\u001b[0m example \u001b[38;5;241m=\u001b[39m [\u001b[38;5;124m\"\u001b[39m\u001b[38;5;124mI\u001b[39m\u001b[38;5;124m'\u001b[39m\u001b[38;5;124mm not happy\u001b[39m\u001b[38;5;124m\"\u001b[39m]\n\u001b[1;32m----> 5\u001b[0m result \u001b[38;5;241m=\u001b[39m \u001b[43mmodel\u001b[49m\u001b[38;5;241;43m.\u001b[39;49m\u001b[43mpredict\u001b[49m\u001b[43m(\u001b[49m\u001b[43mexample\u001b[49m\u001b[43m)\u001b[49m\n\u001b[0;32m      7\u001b[0m \u001b[38;5;66;03m#result = np.argmax(model.predict(example), axis=-1)\u001b[39;00m\n\u001b[0;32m      9\u001b[0m \u001b[38;5;28mprint\u001b[39m(result)\n",
      "File \u001b[1;32mC:\\Anaconda3\\lib\\site-packages\\keras\\utils\\traceback_utils.py:70\u001b[0m, in \u001b[0;36mfilter_traceback.<locals>.error_handler\u001b[1;34m(*args, **kwargs)\u001b[0m\n\u001b[0;32m     67\u001b[0m     filtered_tb \u001b[38;5;241m=\u001b[39m _process_traceback_frames(e\u001b[38;5;241m.\u001b[39m__traceback__)\n\u001b[0;32m     68\u001b[0m     \u001b[38;5;66;03m# To get the full stack trace, call:\u001b[39;00m\n\u001b[0;32m     69\u001b[0m     \u001b[38;5;66;03m# `tf.debugging.disable_traceback_filtering()`\u001b[39;00m\n\u001b[1;32m---> 70\u001b[0m     \u001b[38;5;28;01mraise\u001b[39;00m e\u001b[38;5;241m.\u001b[39mwith_traceback(filtered_tb) \u001b[38;5;28;01mfrom\u001b[39;00m \u001b[38;5;28mNone\u001b[39m\n\u001b[0;32m     71\u001b[0m \u001b[38;5;28;01mfinally\u001b[39;00m:\n\u001b[0;32m     72\u001b[0m     \u001b[38;5;28;01mdel\u001b[39;00m filtered_tb\n",
      "File \u001b[1;32mC:\\Users\\MALYAJ~1\\AppData\\Local\\Temp\\__autograph_generated_fileir92zfak.py:15\u001b[0m, in \u001b[0;36mouter_factory.<locals>.inner_factory.<locals>.tf__predict_function\u001b[1;34m(iterator)\u001b[0m\n\u001b[0;32m     13\u001b[0m \u001b[38;5;28;01mtry\u001b[39;00m:\n\u001b[0;32m     14\u001b[0m     do_return \u001b[38;5;241m=\u001b[39m \u001b[38;5;28;01mTrue\u001b[39;00m\n\u001b[1;32m---> 15\u001b[0m     retval_ \u001b[38;5;241m=\u001b[39m ag__\u001b[38;5;241m.\u001b[39mconverted_call(ag__\u001b[38;5;241m.\u001b[39mld(step_function), (ag__\u001b[38;5;241m.\u001b[39mld(\u001b[38;5;28mself\u001b[39m), ag__\u001b[38;5;241m.\u001b[39mld(iterator)), \u001b[38;5;28;01mNone\u001b[39;00m, fscope)\n\u001b[0;32m     16\u001b[0m \u001b[38;5;28;01mexcept\u001b[39;00m:\n\u001b[0;32m     17\u001b[0m     do_return \u001b[38;5;241m=\u001b[39m \u001b[38;5;28;01mFalse\u001b[39;00m\n",
      "\u001b[1;31mValueError\u001b[0m: in user code:\n\n    File \"C:\\Anaconda3\\lib\\site-packages\\keras\\engine\\training.py\", line 2041, in predict_function  *\n        return step_function(self, iterator)\n    File \"C:\\Anaconda3\\lib\\site-packages\\keras\\engine\\training.py\", line 2027, in step_function  **\n        outputs = model.distribute_strategy.run(run_step, args=(data,))\n    File \"C:\\Anaconda3\\lib\\site-packages\\keras\\engine\\training.py\", line 2015, in run_step  **\n        outputs = model.predict_step(data)\n    File \"C:\\Anaconda3\\lib\\site-packages\\keras\\engine\\training.py\", line 1983, in predict_step\n        return self(x, training=False)\n    File \"C:\\Anaconda3\\lib\\site-packages\\keras\\utils\\traceback_utils.py\", line 70, in error_handler\n        raise e.with_traceback(filtered_tb) from None\n    File \"C:\\Anaconda3\\lib\\site-packages\\keras\\engine\\input_spec.py\", line 232, in assert_input_compatibility\n        raise ValueError(\n\n    ValueError: Exception encountered when calling layer \"sequential\" \"                 f\"(type Sequential).\n    \n    Input 0 of layer \"lstm\" is incompatible with the layer: expected ndim=3, found ndim=2. Full shape received: (None, 32)\n    \n    Call arguments received by layer \"sequential\" \"                 f\"(type Sequential):\n      • inputs=tf.Tensor(shape=(None,), dtype=string)\n      • training=False\n      • mask=None\n"
     ]
    }
   ],
   "source": [
    "#trying on new random review\n",
    "'''\n",
    "example = [\"I'm not happy\"]\n",
    "\n",
    "result = model.predict(example)\n",
    "\n",
    "\n",
    "print(result)'''"
   ]
  },
  {
   "cell_type": "code",
   "execution_count": null,
   "id": "7e3cf2ee",
   "metadata": {},
   "outputs": [],
   "source": []
  },
  {
   "cell_type": "code",
   "execution_count": null,
   "id": "5787c2f1",
   "metadata": {},
   "outputs": [],
   "source": []
  },
  {
   "cell_type": "code",
   "execution_count": null,
   "id": "b3337291",
   "metadata": {},
   "outputs": [],
   "source": []
  },
  {
   "cell_type": "code",
   "execution_count": null,
   "id": "3a546257",
   "metadata": {},
   "outputs": [],
   "source": []
  },
  {
   "cell_type": "code",
   "execution_count": null,
   "id": "385ff477",
   "metadata": {},
   "outputs": [],
   "source": []
  },
  {
   "cell_type": "code",
   "execution_count": null,
   "id": "b3002106",
   "metadata": {},
   "outputs": [],
   "source": [
    "#word cloud:\n",
    "#from wordcloud import WordCloud\n"
   ]
  }
 ],
 "metadata": {
  "kernelspec": {
   "display_name": "Python 3 (ipykernel)",
   "language": "python",
   "name": "python3"
  },
  "language_info": {
   "codemirror_mode": {
    "name": "ipython",
    "version": 3
   },
   "file_extension": ".py",
   "mimetype": "text/x-python",
   "name": "python",
   "nbconvert_exporter": "python",
   "pygments_lexer": "ipython3",
   "version": "3.9.12"
  }
 },
 "nbformat": 4,
 "nbformat_minor": 5
}
